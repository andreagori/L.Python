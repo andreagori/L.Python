{
 "cells": [
  {
   "cell_type": "code",
   "execution_count": null,
   "id": "9e09cd0b-942b-4c35-9faf-bfd339b46d44",
   "metadata": {},
   "outputs": [],
   "source": [
    "# Practica 5: FOR."
   ]
  },
  {
   "cell_type": "code",
   "execution_count": 28,
   "id": "0673ef91-59b7-49fb-ba13-5c130b5be80e",
   "metadata": {
    "tags": []
   },
   "outputs": [
    {
     "name": "stdout",
     "output_type": "stream",
     "text": [
      "Horas\t\tNumero de bacterias\n",
      "0 \t\t 200\n",
      "5 \t\t 6400\n",
      "10 \t\t 204800\n",
      "15 \t\t 6553600\n",
      "------------------------------------\n",
      "Horas\t\tNumero de bacterias\n",
      "    0\t                        200\n",
      "    5\t                       6400\n",
      "   10\t                     204800\n",
      "   15\t                    6553600\n"
     ]
    }
   ],
   "source": [
    "\"\"\"\n",
    "Ejercicio 30:\n",
    "Comenzando con 200 bacterias, el crecimiento en el número de bacterias\n",
    "después de n horas se calcula de la siguiente manera: B = 200 × 2n. Imprima la\n",
    "cantidad de bacterias después de 0, 5, 10 y 15 horas en formato de tabla como\n",
    "se muestra a continuación. Utilice la secuencia de escape de tabulación para\n",
    "lograr el resultado de dos columnas.\n",
    "\n",
    "\"\"\"\n",
    "\n",
    "bacterias = int(200)\n",
    "numero = int(2)\n",
    "# Hora0 = int(0)\n",
    "# Hora5 = int(5)\n",
    "# Hora10 = int(10)\n",
    "# Hora15 = int(15)\n",
    "\n",
    "print(\"Horas\\t\\tNumero de bacterias\")\n",
    "# El for es diferente en python, aqui por ejemplo usando un arreglo, definimos las horas y se realizo la operacion sin necesidad de variables.\n",
    "for horas in [0, 5, 10, 15]:\n",
    "    total_bacterias = bacterias * (numero**horas)\n",
    "    print(horas, \"\\t\\t\", total_bacterias)\n",
    "    \n",
    "print(\"------------------------------------\")\n",
    "\"\"\"\n",
    "Reimplementa el script utilizando f-strings en el cual se muestra de la siguiente\n",
    "manera: (los datos apoyados a la derecha)\n",
    "\"\"\"\n",
    "print(\"Horas\\t\\tNumero de bacterias\")\n",
    "for horas in [0, 5, 10, 15]:\n",
    "    total_bacterias = bacterias * (numero**horas)\n",
    "    print(f\"{horas:>5}\\t{total_bacterias:>27}\")\n",
    "    \n",
    "#lo que realiza el :> es que el numero despues asigna la cantidad de espacios a la derecha, si usara <, seria a la izquierda."
   ]
  },
  {
   "cell_type": "code",
   "execution_count": 33,
   "id": "4fa9fa21-1602-4579-a415-f35f5cf94b9d",
   "metadata": {
    "tags": []
   },
   "outputs": [
    {
     "name": "stdin",
     "output_type": "stream",
     "text": [
      "Ingresa tiempo en segundos:  3600\n"
     ]
    },
    {
     "name": "stdout",
     "output_type": "stream",
     "text": [
      "1 - 0 - 0\n"
     ]
    }
   ],
   "source": [
    "\"\"\"\n",
    "Ejercicio 31: (SIN BUCLE O CICLO).\n",
    "Escriba un script que ingrese una cantidad de segundos desde el usuario.\n",
    "Calcula el número de horas, minutos y segundos restantes. Imprímelos\n",
    "separados por “-”. Por ejemplo, si el usuario escribe 3750 segundos como\n",
    "entrada, el script debería imprimir:\n",
    "1- 2- 30\n",
    "\n",
    "Supongamos que el usuario ingresa una cantidad de segundos superior a 3600.\n",
    "Utilice tanto la división de piso como la operación residuo para calcular la\n",
    "cantidad de horas, minutos y segundos.\n",
    "\n",
    "Ingresar tiempo en segundos: 3750\n",
    "1 - 2 - 30\n",
    "\"\"\"\n",
    "\n",
    "segundosUsuario = int(input('Ingresa tiempo en segundos: '))\n",
    "horas = segundosUsuario // 3600 #el doble // es para que te salga enteros.\n",
    "segundosRestantes = segundosUsuario % 3600 # esto te dara en la variable el residuo de la division. los segundos que quedan sin hacer una resta\n",
    "minutos = segundosRestantes // 60\n",
    "segundos = segundosRestantes % 60\n",
    "\n",
    "print(f\"{horas} - {minutos} - {segundos}\")"
   ]
  },
  {
   "cell_type": "code",
   "execution_count": 42,
   "id": "a00e063f-b921-4ff7-989a-e9f6dc8ba52b",
   "metadata": {
    "tags": []
   },
   "outputs": [
    {
     "name": "stdin",
     "output_type": "stream",
     "text": [
      "Ingresa tiempo en segundos:  3750\n"
     ]
    },
    {
     "name": "stdout",
     "output_type": "stream",
     "text": [
      "1 - 2 - 30\n"
     ]
    }
   ],
   "source": [
    "\"\"\"\n",
    "Ejercicio 32:\n",
    "Escribió un script que calculaba la cantidad de horas, minutos y segundos\n",
    "restantes en función de la cantidad de segundos recibidos a través de la\n",
    "entrada del usuario. Vuelva a implementar su script para usar un bucle que en\n",
    "un proceso iterativo \"recoja\" las horas, minutos y segundos restantes usando\n",
    "los operadores // y %.\n",
    "\"\"\"\n",
    "segundos = int(input('Ingresa tiempo en segundos: '))\n",
    "segundosRestantes = segundos\n",
    "\n",
    "for unidad in [\"Horas\", \"Minutos\", \"Segundos\"]:\n",
    "    if unidad == \"Horas\":\n",
    "        valorH = segundosRestantes // 3600\n",
    "        segundosRestantes = segundosRestantes % 3600\n",
    "    elif unidad == \"Minutos\":\n",
    "        valorM = segundosRestantes // 60\n",
    "        segundosRestantes = segundosRestantes % 60\n",
    "    else:\n",
    "        valorS = segundosRestantes\n",
    "        print(f\"{valorH} - {valorM} - {valorS}\")\n",
    "        \n",
    "\"\"\"\n",
    "elif condición_2:\n",
    "    # código si la condición_1 es falsa pero la condición_2 es verdadera\n",
    "elif condición_3:\n",
    "    # código si la condición_1 y la condición_2 son falsas pero la condición_3 es verdadera\n",
    "\"\"\""
   ]
  },
  {
   "cell_type": "code",
   "execution_count": 3,
   "id": "545cfd6e-c38e-4dcf-9d14-0050b9e822de",
   "metadata": {},
   "outputs": [
    {
     "name": "stdin",
     "output_type": "stream",
     "text": [
      "Ingresa un numero:  12\n"
     ]
    },
    {
     "name": "stdout",
     "output_type": "stream",
     "text": [
      "El numero 12 no es un numero perfecto\n"
     ]
    }
   ],
   "source": [
    "\"\"\"\n",
    "Ejercicio 33:\n",
    "En teoría de números, un número perfecto es un número entero positivo que\n",
    "es igual a la suma de sus divisores. Los pitagóricos estudiaron por primera vez\n",
    "los números perfectos, quienes pensaban que tenían propiedades místicas.\n",
    "También fueron ampliamente estudiados por los griegos (incluido Euclides) por\n",
    "sus propiedades numerológicas.\n",
    "\n",
    "El número perfecto más pequeño es 6, porque 6 = 3 + 2 + 1, siendo 3, 2 y 1 los\n",
    "divisores. Otros ejemplos de números perfectos son: 28, 496 y 8128. Escriba un\n",
    "script que ingrese un número entero no negativo y muestre si es un número\n",
    "perfecto o no.\n",
    "\"\"\"\n",
    "\n",
    "numUsuario = int(input('Ingresa un numero: '))\n",
    "suma_divisores = 0\n",
    "for numeros in range(1, numUsuario): #se puede usar el range cuando se desconoce los numeros, recuerda.\n",
    "        if numUsuario % numeros == 0:\n",
    "            suma_divisores = suma_divisores + numeros\n",
    "        \n",
    "if suma_divisores ==numUsuario:\n",
    "        print(\"El numero\", numUsuario, \"es un numero perfecto\")\n",
    "else:\n",
    "    print(\"El numero\", numUsuario, \"no es un numero perfecto\")\n",
    "        \n",
    "        "
   ]
  },
  {
   "cell_type": "code",
   "execution_count": null,
   "id": "a8c2713e-2b1a-4694-96e4-bc8f669bc9dc",
   "metadata": {},
   "outputs": [],
   "source": [
    "\"\"\"\n",
    "Ejercicio 34:\n",
    "Ingrese un número entero que contenga 0 y 1 (es decir, un número entero\n",
    "“binario”) y muestre su equivalente decimal. [Sugerencia: utilice los\n",
    "operadores de residuo y división(o división de piso) para seleccionar los dígitos\n",
    "del número \"binario\" uno a la vez, de derecha a izquierda. Así como en el\n",
    "sistema numérico decimal, donde el dígito más a la derecha tiene el valor\n",
    "posicional 1 y el siguiente dígito a la izquierda tiene el valor posicional 10,\n",
    "luego 100, luego 1000, etc., en el sistema numérico binario, el dígito más a la\n",
    "derecha tiene el valor posicional 1, el siguiente dígito a la izquierda tiene el\n",
    "valor posicional 2, luego 4, luego 8, etc. Por lo tanto, el número decimal 234 se\n",
    "puede interpretar como 2 * 100 + 3 * 10 + 4 * 1. El decimal equivalente del\n",
    "binario 1101 es 1 * 8 + 1 * 4 + 0 * 2 + 1 * 1.] NOTA: No utilizar la función\n",
    "reversed().\n",
    "\"\"\"\n",
    "\n",
    "numero_binario = input(\"Ingrese un número binario (conteniendo solo 0s y 1s): \")\n",
    "\n",
    "numero_decimal = 0\n",
    "posicion = 1\n",
    "for digito in numero_binario[::-1]:\n",
    "    if digito == '1':\n",
    "        numero_decimal += posicion\n",
    "    posicion *= 2\n",
    "\n",
    "print(f\"El número decimal equivalente de {numero_binario} es: {numero_decimal}\")\n",
    "#explicacion de apoyo: (No le habia entendido hasta que investigue mas del tema).\n",
    "\"\"\"\n",
    "numero_binario[::-1] se utiliza para iterar sobre los dígitos del número binario de derecha a izquierda, \n",
    "lo que facilita la multiplicación por las potencias de 2 en el bucle for. Ejemplo con 1100:\n",
    "Cuando convertimos un número binario a decimal, cada dígito en el número binario representa una potencia de 2, comenzando desde la derecha y aumentando en potencias de 2 a medida que avanzamos hacia la izquierda.\n",
    "\n",
    "Por ejemplo, consideremos el número binario 1100:\n",
    "\n",
    "El primer dígito desde la derecha (menos significativo) representa 2^0.\n",
    "El segundo dígito representa 2^1.\n",
    "El tercer dígito representa 2^2.\n",
    "El cuarto dígito (más a la izquierda) representa 2^3.\n",
    "Entonces, cuando encontramos un '1' en un determinado dígito del número binario, \n",
    "significa que debemos agregar el valor de la potencia de 2 correspondiente al número decimal final. Si encontramos un '0', simplemente lo ignoramos.\n",
    "\"\"\""
   ]
  },
  {
   "cell_type": "code",
   "execution_count": null,
   "id": "df17442a-c4d3-4685-bf13-59ca60eca047",
   "metadata": {},
   "outputs": [],
   "source": [
    "\"\"\"\n",
    "Ejercicio 35:\n",
    "Ingrese un número(es decir, un entero positivo) y muestre su equivalente en\n",
    "binario. [Sugerencia: utilice los operadores de residuo y división(o división de\n",
    "piso) para seleccionar los dígitos del número entero uno a la vez, de derecha a\n",
    "izquierda. Por lo tanto, el número decimal 234 se puede interpretar como 2 *\n",
    "100 + 3 * 10 + 4 * 1. El decimal equivalente del binario 1101 es 1 * 8 + 1 * 4 + 0\n",
    "* 2 + 1 * 1.] NOTA: No utilizar la función reversed().\n",
    "\"\"\""
   ]
  }
 ],
 "metadata": {
  "kernelspec": {
   "display_name": "Python 3 (ipykernel)",
   "language": "python",
   "name": "python3"
  },
  "language_info": {
   "codemirror_mode": {
    "name": "ipython",
    "version": 3
   },
   "file_extension": ".py",
   "mimetype": "text/x-python",
   "name": "python",
   "nbconvert_exporter": "python",
   "pygments_lexer": "ipython3",
   "version": "3.11.4"
  }
 },
 "nbformat": 4,
 "nbformat_minor": 5
}
