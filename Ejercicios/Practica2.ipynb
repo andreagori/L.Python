{
 "cells": [
  {
   "cell_type": "markdown",
   "id": "c80531ec-d051-4900-8e32-2b6ff2f2ea09",
   "metadata": {},
   "source": [
    "# Practica 2\n",
    "Lenguaje Python\n",
    "Andrea Rivas Gomez, 372820\n",
    "Fecha: 20/febrero/2024"
   ]
  },
  {
   "cell_type": "code",
   "execution_count": 1,
   "id": "fcac4663-36e1-49e6-9731-af2b58d2d509",
   "metadata": {
    "tags": []
   },
   "outputs": [
    {
     "name": "stdout",
     "output_type": "stream",
     "text": [
      "x = 2\n",
      "Value of 2 + 2 is 4\n",
      "x =\n",
      "5 x = 5\n"
     ]
    }
   ],
   "source": [
    "# Ejercicio 1: ¿Qué hace el siguiente código? Crea las variables x = 2 e y = 3, luego determina lo que muestra cada una de las siguientes declaraciones:\n",
    "\n",
    "x = 2\n",
    "y = 3\n",
    "\n",
    "print('x =', x)\n",
    "print('Value of', x, '+', x, 'is', (x + x))\n",
    "print('x =')\n",
    "print((x + y), 'x =', (y + x))"
   ]
  },
  {
   "cell_type": "code",
   "execution_count": 3,
   "id": "c65d816a-3f07-427e-8321-7eddd3cd8c17",
   "metadata": {
    "tags": []
   },
   "outputs": [
    {
     "name": "stdin",
     "output_type": "stream",
     "text": [
      "Ingresa una calificacion del 1-100 \n",
      " 98\n"
     ]
    },
    {
     "name": "stdout",
     "output_type": "stream",
     "text": [
      "La calificacion ingresada fue: 98\n"
     ]
    }
   ],
   "source": [
    "# Ejercicio 2: ¿Qué hay de malo con este código? El siguiente código debe leer un entero en la variable calificación:\n",
    "# calificacion = input('Ingresa una calificacion del 1 al 100'), falta cambiar el valor de la calificacion de string a int.\n",
    "\n",
    "calificacion = input('Ingresa una calificacion del 1-100 \\n')\n",
    "int(calificacion)\n",
    "print('La calificacion ingresada fue:', calificacion)"
   ]
  },
  {
   "cell_type": "code",
   "execution_count": 11,
   "id": "1338dfbb-6be5-4c06-8bfd-af65ec8e7df6",
   "metadata": {
    "tags": []
   },
   "outputs": [
    {
     "name": "stdin",
     "output_type": "stream",
     "text": [
      "Ingresa una calificacion del 1-100 \n",
      " 94\n"
     ]
    },
    {
     "name": "stdout",
     "output_type": "stream",
     "text": [
      "La calificacion ingresada fue: 94\n",
      "Felicitaciones! \n",
      "Tu calificación de 94 te otorga una A en este curso\n"
     ]
    }
   ],
   "source": [
    "# Ejercicio 3:\n",
    "\"\"\"\n",
    "Reemplace *** en el siguiente código\n",
    "con una sentencia que imprimirá un mensaje como ‘¡Felicitaciones!\n",
    "Tu calificación de 91 te otorga una A en este curso‘. Su declaración\n",
    "debe imprimir el valor almacenado en la variable calificación:\n",
    "\"\"\"\n",
    "\n",
    "calificacion = int(input('Ingresa una calificacion del 1-100 \\n'))\n",
    "# int(calificacion) REVISAR ESTO DESPUES.\n",
    "print('La calificacion ingresada fue:', calificacion)\n",
    "\n",
    "if calificacion >= 91: \n",
    "    print('Felicitaciones! \\nTu calificación de', calificacion, 'te otorga una A en este curso')"
   ]
  },
  {
   "cell_type": "code",
   "execution_count": 18,
   "id": "d4875ba5-3831-416b-b914-7031b8d96711",
   "metadata": {
    "tags": []
   },
   "outputs": [
    {
     "name": "stdin",
     "output_type": "stream",
     "text": [
      "Ingresa el valor del radio en tu circulo\n",
      " 2\n"
     ]
    },
    {
     "name": "stdout",
     "output_type": "stream",
     "text": [
      "El valor del radio de su circulo es:  2 \n",
      "\n",
      "El valor del diametro de su circulo es:  4 \n",
      "\n",
      "El valor de la circunferencia de su circulo es:  12.56636 \n",
      "\n",
      "El valor del area de su circulo es:  12.56636 \n",
      "\n"
     ]
    }
   ],
   "source": [
    "# Ejercicio 4: Area, diametro y circunferencia\n",
    "\"\"\"\n",
    "(Área, diámetro y circunferencia del círculo) Para un círculo\n",
    "de radio 2, muestre el diámetro, la circunferencia y el área.\n",
    "Utilice el valor 3,14159 para π. Utilice las siguientes\n",
    "fórmulas (r es el radio): diámetro = 2r, circunferencia = 2πr y\n",
    "área = π r2.\n",
    "\"\"\"\n",
    "\n",
    "radio = int(input('Ingresa el valor del radio en tu circulo\\n'))\n",
    "diametro = 2 * radio\n",
    "pi = 3.14159\n",
    "circunferencia = 2 * pi * radio\n",
    "area = pi * radio**2\n",
    "                  \n",
    "print('El valor del radio de su circulo es: ', radio, '\\n')\n",
    "print('El valor del diametro de su circulo es: ', diametro, '\\n')\n",
    "print('El valor de la circunferencia de su circulo es: ', circunferencia, '\\n')\n",
    "print('El valor del area de su circulo es: ', area, '\\n')"
   ]
  },
  {
   "cell_type": "code",
   "execution_count": 23,
   "id": "b095d2bd-a02d-41fd-b52a-ad1467ff77ac",
   "metadata": {
    "tags": []
   },
   "outputs": [
    {
     "name": "stdin",
     "output_type": "stream",
     "text": [
      "Ingrese el numero que desea evaluar si es par o no 9\n"
     ]
    },
    {
     "name": "stdout",
     "output_type": "stream",
     "text": [
      "Este numero no es par\n",
      "\n"
     ]
    }
   ],
   "source": [
    "# Ejercicio 5:\n",
    "\"\"\" \n",
    "Utilice sentencias if para determinar si un\n",
    "número entero es par o impar. [Sugerencia: utilice el\n",
    "operador residuo. Un número par es múltiplo de 2.\n",
    "Cualquier múltiplo de 2 deja un residuo de 0 cuando se\n",
    "divide por 2.\n",
    "\"\"\"\n",
    "\n",
    "valorUsuario = int(input('Ingrese el numero que desea evaluar si es par o no'))\n",
    "if valorUsuario % 2 == 0:\n",
    "    print ('Este numero es par\\n')\n",
    "if valorUsuario % 2 != 0:\n",
    "    print ('Este numero no es par\\n')"
   ]
  },
  {
   "cell_type": "code",
   "execution_count": 27,
   "id": "aa600cc8-34ff-4b61-99ab-a618f88694e8",
   "metadata": {
    "tags": []
   },
   "outputs": [
    {
     "name": "stdin",
     "output_type": "stream",
     "text": [
      "Ingresa el primer numero\n",
      " 25\n",
      "Ingresa el segundo numero\n",
      " 4\n"
     ]
    },
    {
     "name": "stdout",
     "output_type": "stream",
     "text": [
      "El numero 4 no es multiple de 25 \n",
      "\n"
     ]
    }
   ],
   "source": [
    "# Ejercicio 6:\n",
    "\"\"\" \n",
    "(Múltiplos) Utilice sentencias if para determinar si 1024 es\n",
    "múltiplo de 4 y si 2 es múltiplo de 10. (Sugerencia: utilice el\n",
    "operador de residuo).\n",
    "\"\"\"\n",
    "\n",
    "numUno = int(input('Ingresa el primer numero\\n'))\n",
    "numDos = int(input('Ingresa el segundo numero\\n'))\n",
    "\n",
    "if numDos % numUno == 0:\n",
    "    print('El numero', numDos, 'es multiplo de ', numUno, '\\n')\n",
    "if numDos % numUno != 0:\n",
    "    print('El numero', numDos, 'no es multiple de', numUno, '\\n')"
   ]
  },
  {
   "cell_type": "code",
   "execution_count": 31,
   "id": "b8c57834-0acf-4ea3-878e-0420025db386",
   "metadata": {
    "tags": []
   },
   "outputs": [
    {
     "name": "stdout",
     "output_type": "stream",
     "text": [
      "numero \t cuadrado \t cubo\n",
      "0 \t 0 \t \t 0\n",
      "1 \t 1 \t \t 1\n",
      "2 \t 4 \t \t 8\n",
      "3 \t 9 \t \t 27\n",
      "4 \t 16 \t \t 64\n",
      "5 \t 25 \t \t 125\n"
     ]
    }
   ],
   "source": [
    "# Ejercicio 7:\n",
    "\"\"\"\n",
    "Escriba un guión(script) que\n",
    "calcule los cuadrados y cubos\n",
    "de los números del 0 al 5.\n",
    "Imprima los valores\n",
    "resultantes en formato de\n",
    "tabla, como se muestra a\n",
    "continuación. Utilice la\n",
    "secuencia de escape de\n",
    "tabulación para lograr el\n",
    "resultado de tres columnas.\n",
    "\"\"\"\n",
    "\n",
    "print('numero', '\\t', 'cuadrado', '\\t', 'cubo')\n",
    "print('0', '\\t', '0', '\\t \\t', '0')\n",
    "print('1', '\\t', '1', '\\t \\t', '1')\n",
    "print('2', '\\t', 2**2, '\\t \\t', 2**3)\n",
    "print('3', '\\t', 3**2, '\\t \\t', 3**3)\n",
    "print('4', '\\t', 4**2, '\\t \\t', 4**3)\n",
    "print('5', '\\t', 5**2, '\\t \\t', 5**3)\n",
    "\n"
   ]
  },
  {
   "cell_type": "code",
   "execution_count": 43,
   "id": "8a974d50-eafa-45a0-abc2-f0a45c31bca2",
   "metadata": {
    "tags": []
   },
   "outputs": [
    {
     "name": "stdout",
     "output_type": "stream",
     "text": [
      "  numero \t cuadrado \t \t     cubo\n",
      "       0 \t        0 \t \t        0\n",
      "       1 \t        1 \t \t        1\n",
      "       2 \t        4 \t \t        8\n",
      "       3 \t        9 \t \t       27\n",
      "       4 \t       16 \t \t       64\n",
      "       5 \t       25 \t \t      125\n"
     ]
    }
   ],
   "source": [
    "# Ejercicio 8:\n",
    "\"\"\"\n",
    "Muestra cómo \"alinear a la derecha\" los números. Podrías\n",
    "intentarlo aquí como un reto extra. La salida sería:\n",
    "Documentacion:     # Note use of 'end' on previous line\n",
    "print(repr(x*x*x).rjust(4))\n",
    "El método str.rjust() de los objetos cadena justifica a la derecha en un campo de anchura predeterminada rellenando con espacios a la izquierda. \n",
    "Métodos similares a este son str.ljust() y str.center().\n",
    "\"\"\"\n",
    "print('numero'.rjust(8), '\\t', 'cuadrado'.rjust(8), '\\t \\t', 'cubo'.rjust(8))\n",
    "print('0'.rjust(8), '\\t', '0'.rjust(8), '\\t \\t', '0'.rjust(8))\n",
    "print('1'.rjust(8), '\\t', '1'.rjust(8), '\\t \\t', '1'.rjust(8))\n",
    "print('2'.rjust(8), '\\t', str(2**2).rjust(8), '\\t \\t', str(2**3).rjust(8))\n",
    "print('3'.rjust(8), '\\t', str(3**2).rjust(8), '\\t \\t', str(3**3).rjust(8))\n",
    "print('4'.rjust(8), '\\t', str(4**2).rjust(8), '\\t \\t', str(4**3).rjust(8))\n",
    "print('5'.rjust(8), '\\t', str(5**2).rjust(8), '\\t \\t', str(5**3).rjust(8))\n"
   ]
  },
  {
   "cell_type": "code",
   "execution_count": null,
   "id": "148625a4-bba3-487e-9566-edb91f7e1a79",
   "metadata": {},
   "outputs": [],
   "source": []
  }
 ],
 "metadata": {
  "kernelspec": {
   "display_name": "Python 3 (ipykernel)",
   "language": "python",
   "name": "python3"
  },
  "language_info": {
   "codemirror_mode": {
    "name": "ipython",
    "version": 3
   },
   "file_extension": ".py",
   "mimetype": "text/x-python",
   "name": "python",
   "nbconvert_exporter": "python",
   "pygments_lexer": "ipython3",
   "version": "3.11.4"
  }
 },
 "nbformat": 4,
 "nbformat_minor": 5
}
