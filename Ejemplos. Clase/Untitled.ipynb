{
 "cells": [
  {
   "cell_type": "code",
   "execution_count": 3,
   "id": "b9984b74",
   "metadata": {},
   "outputs": [
    {
     "name": "stdout",
     "output_type": "stream",
     "text": [
      "El valor del resultado es -0.04591836734693878\n",
      "El valor del resultado dos es 0.04591836734693878\n"
     ]
    }
   ],
   "source": [
    "# -*- coding: utf-8 -*-\n",
    "\"\"\"\n",
    "Created on Tue Feb 13 07:24:06 2024\n",
    "\n",
    "@author: andyt\n",
    "\"\"\"\n",
    "import math\n",
    "\"\"\"\n",
    "import math\n",
    "print(f'El valor de pi es aproximadamente {math.pi:.4f}.')\n",
    "\"\"\"\n",
    "# help(). Comando para pedir ayuda.\n",
    "\"\"\"\n",
    "a = 2\n",
    "b = 3\n",
    "c = 4\n",
    "x = 5\n",
    "y = (a(x**2))+(b(c)) + c\n",
    "print(f'El valor de y es igual a {y:.1f}') \n",
    "\"\"\"\n",
    "\"\"\"\n",
    "precioProducto = 34.96\n",
    "descuento = (precioProducto * 0.15)\n",
    "\n",
    "precioConDescuento = precioProducto - descuento\n",
    "\n",
    "print(f'El precio con descuento es igual a {precioConDescuento:.2f}')\n",
    "\"\"\"\n",
    "x = 2\n",
    "h = 5\n",
    "\n",
    "resultado = (((1 / (x + h)**2) - (1/x**2)) / h)\n",
    "print (f'El valor del resultado es {resultado}')\n",
    "\n",
    "resultado2 = - (((x * 2) + h) / ((x + h)**2 * x**2))\n",
    "print (f'El valor del resultado dos es {resultado2}')\n"
   ]
  },
  {
   "cell_type": "code",
   "execution_count": null,
   "id": "258aa1d6",
   "metadata": {},
   "outputs": [],
   "source": []
  }
 ],
 "metadata": {
  "kernelspec": {
   "display_name": "Python 3 (ipykernel)",
   "language": "python",
   "name": "python3"
  },
  "language_info": {
   "codemirror_mode": {
    "name": "ipython",
    "version": 3
   },
   "file_extension": ".py",
   "mimetype": "text/x-python",
   "name": "python",
   "nbconvert_exporter": "python",
   "pygments_lexer": "ipython3",
   "version": "3.11.4"
  }
 },
 "nbformat": 4,
 "nbformat_minor": 5
}
